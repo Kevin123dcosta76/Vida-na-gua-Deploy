{
 "cells": [
  {
   "cell_type": "code",
   "execution_count": 1,
   "id": "addbc0b3",
   "metadata": {
    "scrolled": true
   },
   "outputs": [
    {
     "name": "stdout",
     "output_type": "stream",
     "text": [
      "Requirement already satisfied: zmq in c:\\users\\user\\anaconda3\\lib\\site-packages (0.0.0)\n",
      "Requirement already satisfied: pyzmq in c:\\users\\user\\anaconda3\\lib\\site-packages (from zmq) (24.0.1)\n"
     ]
    }
   ],
   "source": [
    "!pip install zmq"
   ]
  },
  {
   "cell_type": "code",
   "execution_count": null,
   "id": "7f8fd555",
   "metadata": {},
   "outputs": [],
   "source": [
    "import zmq\n",
    "context = zmq.Context()\n",
    "\n",
    "socket = context.socket(zmq.REP)\n",
    "socket.bind(\"tcp://127.0.0.1:1234567\")\n",
    "\n",
    "while True:\n",
    "    msg=socket.recv()\n",
    "    print('From client :',msg.decode())\n",
    "    smsg = input('enter your msg here : ')\n",
    "    socket.send(smsg.encode())\n",
    "    print('')\n",
    "    \n",
    "     "
   ]
  }
 ],
 "metadata": {
  "celltoolbar": "Tags",
  "kernelspec": {
   "display_name": "Python 3 (ipykernel)",
   "language": "python",
   "name": "python3"
  },
  "language_info": {
   "codemirror_mode": {
    "name": "ipython",
    "version": 3
   },
   "file_extension": ".py",
   "mimetype": "text/x-python",
   "name": "python",
   "nbconvert_exporter": "python",
   "pygments_lexer": "ipython3",
   "version": "3.9.7"
  }
 },
 "nbformat": 4,
 "nbformat_minor": 5
}
